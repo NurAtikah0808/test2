{
  "nbformat": 4,
  "nbformat_minor": 0,
  "metadata": {
    "colab": {
      "provenance": [],
      "authorship_tag": "ABX9TyMasS6wXlclGRxtgVZ0JGkG",
      "include_colab_link": true
    },
    "kernelspec": {
      "name": "python3",
      "display_name": "Python 3"
    },
    "language_info": {
      "name": "python"
    }
  },
  "cells": [
    {
      "cell_type": "markdown",
      "metadata": {
        "id": "view-in-github",
        "colab_type": "text"
      },
      "source": [
        "<a href=\"https://colab.research.google.com/github/NurAtikah0808/test2/blob/main/test2.ipynb\" target=\"_parent\"><img src=\"https://colab.research.google.com/assets/colab-badge.svg\" alt=\"Open In Colab\"/></a>"
      ]
    },
    {
      "cell_type": "code",
      "execution_count": 1,
      "metadata": {
        "colab": {
          "base_uri": "https://localhost:8080/"
        },
        "id": "AaDmIBki44b5",
        "outputId": "5db7496e-467a-4a3c-8ef6-cebe06237137"
      },
      "outputs": [
        {
          "output_type": "stream",
          "name": "stdout",
          "text": [
            "Error reading Excel file: [Errno 2] No such file or directory: '/mnt/data/test2.xlsx'\n",
            "Data is not loaded. Please read the Excel file first.\n",
            "No data to summarize.\n",
            "\n",
            "Final Summary:\n",
            "No data available to summarize.\n"
          ]
        }
      ],
      "source": [
        "import pandas as pd\n",
        "import openpyxl\n",
        "\n",
        "class RAGSummary:\n",
        "    def __init__(self, file_path):\n",
        "        self.file_path = file_path\n",
        "        self.data = None\n",
        "\n",
        "    def read_excel(self):\n",
        "        \"\"\"\n",
        "        Reads the Excel file and loads the data into a Pandas DataFrame.\n",
        "        \"\"\"\n",
        "        try:\n",
        "            self.data = pd.read_excel(self.file_path)\n",
        "            print(\"Excel file read successfully.\")\n",
        "        except Exception as e:\n",
        "            print(f\"Error reading Excel file: {e}\")\n",
        "\n",
        "    def process_data(self):\n",
        "        \"\"\"\n",
        "        Processes the data to calculate average salary and department distribution.\n",
        "        \"\"\"\n",
        "        if self.data is None:\n",
        "            print(\"Data is not loaded. Please read the Excel file first.\")\n",
        "            return None\n",
        "\n",
        "        try:\n",
        "            avg_salary = self.data['Salary'].mean()\n",
        "            department_distribution = self.data['Department'].value_counts().to_dict()\n",
        "            return {\n",
        "                \"average_salary\": avg_salary,\n",
        "                \"department_distribution\": department_distribution\n",
        "            }\n",
        "        except KeyError as e:\n",
        "            print(f\"Missing column in the data: {e}\")\n",
        "            return None\n",
        "\n",
        "    def summarize_with_gpt(self, summary_data):\n",
        "        \"\"\"\n",
        "        Summarizes the processed data in a natural language format.\n",
        "        \"\"\"\n",
        "        if summary_data is None:\n",
        "            print(\"No data to summarize.\")\n",
        "            return \"No data available to summarize.\"\n",
        "\n",
        "        avg_salary = summary_data.get('average_salary', 0)\n",
        "        department_distribution = summary_data.get('department_distribution', {})\n",
        "\n",
        "        summary = (\n",
        "            f\"The average salary is ${avg_salary:.2f}. \"\n",
        "            f\"The department distribution is as follows: {department_distribution}.\"\n",
        "        )\n",
        "        return summary\n",
        "\n",
        "# Main execution\n",
        "file_path = '/mnt/data/test2.xlsx'  # Path to the uploaded file\n",
        "rag_summary = RAGSummary(file_path)\n",
        "\n",
        "rag_summary.read_excel()\n",
        "data_summary = rag_summary.process_data()\n",
        "final_summary = rag_summary.summarize_with_gpt(data_summary)\n",
        "\n",
        "print(\"\\nFinal Summary:\")\n",
        "print(final_summary)\n"
      ]
    }
  ]
}